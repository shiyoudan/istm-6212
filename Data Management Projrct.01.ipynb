{
 "cells": [
  {
   "cell_type": "code",
   "execution_count": 5,
   "metadata": {
    "collapsed": false
   },
   "outputs": [
    {
     "name": "stdout",
     "output_type": "stream",
     "text": [
      "--2016-09-18 13:56:35--  https://raw.githubusercontent.com/gwsb-istm-6212-fall-2016/syllabus-and-schedule/master/projects/project-01/women.txt\n",
      "Resolving raw.githubusercontent.com (raw.githubusercontent.com)... 151.101.32.133\n",
      "Connecting to raw.githubusercontent.com (raw.githubusercontent.com)|151.101.32.133|:443... connected.\n",
      "HTTP request sent, awaiting response... 200 OK\n",
      "Length: 1053440 (1.0M) [text/plain]\n",
      "Saving to: ‘women.txt.2’\n",
      "\n",
      "women.txt.2         100%[===================>]   1.00M  --.-KB/s    in 0.1s    \n",
      "\n",
      "2016-09-18 13:56:35 (8.48 MB/s) - ‘women.txt.2’ saved [1053440/1053440]\n",
      "\n"
     ]
    }
   ],
   "source": [
    "!wget https://raw.githubusercontent.com/gwsb-istm-6212-fall-2016/syllabus-and-schedule/master/projects/project-01/women.txt"
   ]
  },
  {
   "cell_type": "code",
   "execution_count": 5,
   "metadata": {
    "collapsed": false
   },
   "outputs": [],
   "source": [
    "#Problem 1\n",
    "#PART A."
   ]
  },
  {
   "cell_type": "code",
   "execution_count": 21,
   "metadata": {
    "collapsed": false
   },
   "outputs": [
    {
     "name": "stdout",
     "output_type": "stream",
     "text": [
      "1355\r\n"
     ]
    }
   ],
   "source": [
    "!cat women.txt.2 |grep -oE '\\w{{2,}}'| grep -w 'Jo'|wc -l"
   ]
  },
  {
   "cell_type": "markdown",
   "metadata": {
    "collapsed": false
   },
   "source": [
    "#in this proccess, I try to read all txt. first, and then split the txt. one word per line, finally count the name."
   ]
  },
  {
   "cell_type": "code",
   "execution_count": 22,
   "metadata": {
    "collapsed": false
   },
   "outputs": [
    {
     "name": "stdout",
     "output_type": "stream",
     "text": [
      "459\r\n"
     ]
    }
   ],
   "source": [
    "!cat women.txt.2 |grep -oE '\\w{{2,}}'| grep -w 'Beth'|wc -l"
   ]
  },
  {
   "cell_type": "code",
   "execution_count": 23,
   "metadata": {
    "collapsed": false
   },
   "outputs": [
    {
     "name": "stdout",
     "output_type": "stream",
     "text": [
      "683\r\n"
     ]
    }
   ],
   "source": [
    "!cat women.txt.2 |grep -oE '\\w{{2,}}'| grep -w 'Meg'|wc -l"
   ]
  },
  {
   "cell_type": "code",
   "execution_count": 24,
   "metadata": {
    "collapsed": false
   },
   "outputs": [
    {
     "name": "stdout",
     "output_type": "stream",
     "text": [
      "645\r\n"
     ]
    }
   ],
   "source": [
    "!cat women.txt.2 |grep -oE '\\w{{2,}}'| grep -w 'Amy'|wc -l"
   ]
  },
  {
   "cell_type": "code",
   "execution_count": 24,
   "metadata": {
    "collapsed": false,
    "scrolled": true
   },
   "outputs": [
    {
     "name": "stdout",
     "output_type": "stream",
     "text": [
      "--2016-09-18 15:10:50--  https://raw.githubusercontent.com/gwsb-istm-6212-fall-2016/syllabus-and-schedule/master/projects/project-01/romeo.txt\n",
      "Resolving raw.githubusercontent.com (raw.githubusercontent.com)... 151.101.32.133\n",
      "Connecting to raw.githubusercontent.com (raw.githubusercontent.com)|151.101.32.133|:443... connected.\n",
      "HTTP request sent, awaiting response... 200 OK\n",
      "Length: 178983 (175K) [text/plain]\n",
      "Saving to: ‘romeo.txt.1’\n",
      "\n",
      "romeo.txt.1         100%[===================>] 174.79K  --.-KB/s    in 0.02s   \n",
      "\n",
      "2016-09-18 15:10:50 (8.25 MB/s) - ‘romeo.txt.1’ saved [178983/178983]\n",
      "\n"
     ]
    }
   ],
   "source": [
    "#PART B.\n",
    "!wget https://raw.githubusercontent.com/gwsb-istm-6212-fall-2016/syllabus-and-schedule/master/projects/project-01/romeo.txt"
   ]
  },
  {
   "cell_type": "code",
   "execution_count": 25,
   "metadata": {
    "collapsed": false
   },
   "outputs": [
    {
     "name": "stdout",
     "output_type": "stream",
     "text": [
      "163\r\n"
     ]
    }
   ],
   "source": [
    "!grep \"Rom. \" romeo.txt.1 | wc -l"
   ]
  },
  {
   "cell_type": "code",
   "execution_count": 26,
   "metadata": {
    "collapsed": false
   },
   "outputs": [
    {
     "name": "stdout",
     "output_type": "stream",
     "text": [
      "117\r\n"
     ]
    }
   ],
   "source": [
    "!grep \"Jul. \" romeo.txt.1 | wc -l"
   ]
  },
  {
   "cell_type": "code",
   "execution_count": 27,
   "metadata": {
    "collapsed": false
   },
   "outputs": [
    {
     "name": "stdout",
     "output_type": "stream",
     "text": [
      "--2016-09-18 15:26:56--  https://raw.githubusercontent.com/gwsb-istm-6212-fall-2016/syllabus-and-schedule/master/projects/project-01/2016q1.csv.zip\n",
      "Resolving raw.githubusercontent.com (raw.githubusercontent.com)... 151.101.32.133\n",
      "Connecting to raw.githubusercontent.com (raw.githubusercontent.com)|151.101.32.133|:443... connected.\n",
      "HTTP request sent, awaiting response... 200 OK\n",
      "Length: 10643003 (10M) [application/octet-stream]\n",
      "Saving to: ‘2016q1.csv.zip’\n",
      "\n",
      "2016q1.csv.zip      100%[===================>]  10.15M  10.4MB/s    in 1.0s    \n",
      "\n",
      "2016-09-18 15:26:57 (10.4 MB/s) - ‘2016q1.csv.zip’ saved [10643003/10643003]\n",
      "\n"
     ]
    }
   ],
   "source": [
    "#Problem 2\n",
    "#PART A.\n",
    "!wget https://raw.githubusercontent.com/gwsb-istm-6212-fall-2016/syllabus-and-schedule/master/projects/project-01/2016q1.csv.zip"
   ]
  },
  {
   "cell_type": "code",
   "execution_count": 32,
   "metadata": {
    "collapsed": false
   },
   "outputs": [
    {
     "name": "stdout",
     "output_type": "stream",
     "text": [
      "Archive:  2016q1.csv.zip\n",
      "  inflating: 2016q1.csv              \n"
     ]
    }
   ],
   "source": [
    "!unzip 2016q1.csv.zip"
   ]
  },
  {
   "cell_type": "code",
   "execution_count": 33,
   "metadata": {
    "collapsed": true
   },
   "outputs": [],
   "source": [
    "!mv 2016q1.csv q1.csv"
   ]
  },
  {
   "cell_type": "code",
   "execution_count": 34,
   "metadata": {
    "collapsed": false
   },
   "outputs": [
    {
     "name": "stdout",
     "output_type": "stream",
     "text": [
      "Duration (ms),Start date,End date,Start station number,Start station,End station number,End station,Bike number,Member Type\r",
      "\r\n",
      "301295,3/31/2016 23:59,4/1/2016 0:04,31280,11th & S St NW,31506,1st & Rhode Island Ave NW,W00022,Registered\r",
      "\r\n",
      "557887,3/31/2016 23:59,4/1/2016 0:08,31275,New Hampshire Ave & 24th St NW,31114,18th St & Wyoming Ave NW,W01294,Registered\r",
      "\r\n",
      "555944,3/31/2016 23:59,4/1/2016 0:08,31101,14th & V St NW,31221,18th & M St NW,W01416,Registered\r",
      "\r\n",
      "766916,3/31/2016 23:57,4/1/2016 0:09,31226,34th St & Wisconsin Ave NW,31214,17th & Corcoran St NW,W01090,Registered\r",
      "\r\n",
      "139656,3/31/2016 23:57,3/31/2016 23:59,31011,23rd & Crystal Dr,31009,27th & Crystal Dr,W21934,Registered\r",
      "\r\n",
      "967713,3/31/2016 23:57,4/1/2016 0:13,31266,11th & M St NW,31600,5th & K St NW,W20562,Casual\r",
      "\r\n",
      "534836,3/31/2016 23:57,4/1/2016 0:06,31222,New York Ave & 15th St NW,31278,18th & R St NW,W20222,Registered\r",
      "\r\n",
      "243864,3/31/2016 23:56,4/1/2016 0:00,31228,8th & H St NW,31600,5th & K St NW,W20291,Registered\r",
      "\r\n",
      "372524,3/31/2016 23:55,4/1/2016 0:01,31113,Columbia Rd & Belmont St NW,31234,20th & O St NW / Dupont South,W20590,Registered\r",
      "\r\n"
     ]
    }
   ],
   "source": [
    "!head q1.csv"
   ]
  },
  {
   "cell_type": "code",
   "execution_count": 35,
   "metadata": {
    "collapsed": false
   },
   "outputs": [
    {
     "name": "stdout",
     "output_type": "stream",
     "text": [
      "  1: Duration (ms)\r\n",
      "  2: Start date\r\n",
      "  3: End date\r\n",
      "  4: Start station number\r\n",
      "  5: Start station\r\n",
      "  6: End station number\r\n",
      "  7: End station\r\n",
      "  8: Bike number\r\n",
      "  9: Member Type\r\n"
     ]
    }
   ],
   "source": [
    "!csvcut -n q1.csv"
   ]
  },
  {
   "cell_type": "code",
   "execution_count": 39,
   "metadata": {
    "collapsed": false
   },
   "outputs": [
    {
     "name": "stdout",
     "output_type": "stream",
     "text": [
      "Duration (ms),Start station,End station\r\n",
      "301295,11th & S St NW,1st & Rhode Island Ave NW\r\n",
      "557887,New Hampshire Ave & 24th St NW,18th St & Wyoming Ave NW\r\n",
      "555944,14th & V St NW,18th & M St NW\r\n",
      "766916,34th St & Wisconsin Ave NW,17th & Corcoran St NW\r\n",
      "139656,23rd & Crystal Dr,27th & Crystal Dr\r\n",
      "967713,11th & M St NW,5th & K St NW\r\n",
      "534836,New York Ave & 15th St NW,18th & R St NW\r\n",
      "243864,8th & H St NW,5th & K St NW\r\n",
      "372524,Columbia Rd & Belmont St NW,20th & O St NW / Dupont South\r\n",
      "215194,10th & K St NW,5th St & Massachusetts Ave NW\r\n",
      "498903,Maryland & Independence Ave SW,1st & N St  SE\r\n",
      "389082,Lee Hwy & N Cleveland St,21st St N & N Pierce St\r\n",
      "1680745,Lincoln Memorial,3rd St & Pennsylvania Ave SE\r\n",
      "1687026,Lincoln Memorial,3rd St & Pennsylvania Ave SE\r\n",
      "544541,7th & R St NW / Shaw Library,Eckington Pl & Q St NE\r\n",
      "1001144,Calvert & Biltmore St NW,34th St & Wisconsin Ave NW\r\n",
      "1262663,10th & U St NW,34th St & Wisconsin Ave NW\r\n",
      "451821,Eastern Market Metro / Pennsylvania Ave & 7th St SE,Bladensburg Rd & Benning Rd NE\r\n",
      "305172,3rd St & Pennsylvania Ave SE,2nd & G St NE\r\n",
      "5230964,Smithsonian / Jefferson Dr & 12th St SW,Smithsonian / Jefferson Dr & 12th St SW\r\n",
      "5226179,Smithsonian / Jefferson Dr & 12th St SW,Smithsonian / Jefferson Dr & 12th St SW\r\n",
      "534398,Calvert & Biltmore St NW,18th & R St NW\r\n",
      "611293,Metro Center / 12th & G St NW,21st & M St NW\r\n",
      "1782313,Park Rd & Holmead Pl NW,Lincoln Memorial\r\n",
      "1772821,Park Rd & Holmead Pl NW,Lincoln Memorial\r\n",
      "173074,Wilson Blvd & N Edgewood St,Lee Hwy & N Cleveland St\r\n",
      "412372,14th & R St NW,18th St & Wyoming Ave NW\r\n",
      "401291,14th & R St NW,18th St & Wyoming Ave NW\r\n",
      "617906,20th & O St NW / Dupont South,15th & Euclid St  NW\r\n"
     ]
    }
   ],
   "source": [
    "!csvcut -c1,5,7 q1.csv | head -30"
   ]
  },
  {
   "cell_type": "code",
   "execution_count": 42,
   "metadata": {
    "collapsed": false
   },
   "outputs": [
    {
     "name": "stdout",
     "output_type": "stream",
     "text": [
      "|----------------+-----------------------------------------------------+------------------------------------------|\r\n",
      "|  Duration (ms) | Start station                                       | End station                              |\r\n",
      "|----------------+-----------------------------------------------------+------------------------------------------|\r\n",
      "|  301295        | 11th & S St NW                                      | 1st & Rhode Island Ave NW                |\r\n",
      "|  557887        | New Hampshire Ave & 24th St NW                      | 18th St & Wyoming Ave NW                 |\r\n",
      "|  555944        | 14th & V St NW                                      | 18th & M St NW                           |\r\n",
      "|  766916        | 34th St & Wisconsin Ave NW                          | 17th & Corcoran St NW                    |\r\n",
      "|  139656        | 23rd & Crystal Dr                                   | 27th & Crystal Dr                        |\r\n",
      "|  967713        | 11th & M St NW                                      | 5th & K St NW                            |\r\n",
      "|  534836        | New York Ave & 15th St NW                           | 18th & R St NW                           |\r\n",
      "|  243864        | 8th & H St NW                                       | 5th & K St NW                            |\r\n",
      "|  372524        | Columbia Rd & Belmont St NW                         | 20th & O St NW / Dupont South            |\r\n",
      "|  215194        | 10th & K St NW                                      | 5th St & Massachusetts Ave NW            |\r\n",
      "|  498903        | Maryland & Independence Ave SW                      | 1st & N St  SE                           |\r\n",
      "|  389082        | Lee Hwy & N Cleveland St                            | 21st St N & N Pierce St                  |\r\n",
      "|  1680745       | Lincoln Memorial                                    | 3rd St & Pennsylvania Ave SE             |\r\n",
      "|  1687026       | Lincoln Memorial                                    | 3rd St & Pennsylvania Ave SE             |\r\n",
      "|  544541        | 7th & R St NW / Shaw Library                        | Eckington Pl & Q St NE                   |\r\n",
      "|  1001144       | Calvert & Biltmore St NW                            | 34th St & Wisconsin Ave NW               |\r\n",
      "|  1262663       | 10th & U St NW                                      | 34th St & Wisconsin Ave NW               |\r\n",
      "|  451821        | Eastern Market Metro / Pennsylvania Ave & 7th St SE | Bladensburg Rd & Benning Rd NE           |\r\n",
      "|  305172        | 3rd St & Pennsylvania Ave SE                        | 2nd & G St NE                            |\r\n",
      "|  5230964       | Smithsonian / Jefferson Dr & 12th St SW             | Smithsonian / Jefferson Dr & 12th St SW  |\r\n",
      "|  5226179       | Smithsonian / Jefferson Dr & 12th St SW             | Smithsonian / Jefferson Dr & 12th St SW  |\r\n",
      "|  534398        | Calvert & Biltmore St NW                            | 18th & R St NW                           |\r\n",
      "|  611293        | Metro Center / 12th & G St NW                       | 21st & M St NW                           |\r\n",
      "|  1782313       | Park Rd & Holmead Pl NW                             | Lincoln Memorial                         |\r\n",
      "|  1772821       | Park Rd & Holmead Pl NW                             | Lincoln Memorial                         |\r\n",
      "|  173074        | Wilson Blvd & N Edgewood St                         | Lee Hwy & N Cleveland St                 |\r\n",
      "|  412372        | 14th & R St NW                                      | 18th St & Wyoming Ave NW                 |\r\n",
      "|  401291        | 14th & R St NW                                      | 18th St & Wyoming Ave NW                 |\r\n",
      "|  617906        | 20th & O St NW / Dupont South                       | 15th & Euclid St  NW                     |\r\n",
      "|----------------+-----------------------------------------------------+------------------------------------------|\r\n"
     ]
    }
   ],
   "source": [
    "!csvcut -c1,5,7 q1.csv | head -30 | csvlook"
   ]
  },
  {
   "cell_type": "code",
   "execution_count": 43,
   "metadata": {
    "collapsed": false
   },
   "outputs": [
    {
     "name": "stdout",
     "output_type": "stream",
     "text": [
      "  13120 Columbus Circle / Union Station\r\n",
      "   9560 Massachusetts Ave & Dupont Circle NW\r\n",
      "   9388 Lincoln Memorial\r\n",
      "   8138 Jefferson Dr & 14th St SW\r\n",
      "   7479 Thomas Circle\r\n",
      "   7401 15th & P St NW\r\n",
      "   6568 14th & V St NW\r\n",
      "   6491 New Hampshire Ave & T St NW\r\n",
      "   5649 Eastern Market Metro / Pennsylvania Ave & 7th St SE\r\n",
      "   5514 17th & Corcoran St NW\r\n"
     ]
    }
   ],
   "source": [
    "!csvcut -c1,5,7 q1.csv | csvcut -c2 | sort | uniq -c | sort -rn | head -10"
   ]
  },
  {
   "cell_type": "code",
   "execution_count": 44,
   "metadata": {
    "collapsed": false
   },
   "outputs": [
    {
     "name": "stdout",
     "output_type": "stream",
     "text": [
      "  13880 Columbus Circle / Union Station\r\n",
      "  11183 Massachusetts Ave & Dupont Circle NW\r\n",
      "   9419 Lincoln Memorial\r\n",
      "   8975 Jefferson Dr & 14th St SW\r\n",
      "   8092 15th & P St NW\r\n",
      "   7267 14th & V St NW\r\n",
      "   6997 Thomas Circle\r\n",
      "   6245 New Hampshire Ave & T St NW\r\n",
      "   5761 5th & K St NW\r\n",
      "   5651 17th & Corcoran St NW\r\n"
     ]
    }
   ],
   "source": [
    "!csvcut -c1,5,7 q1.csv | csvcut -c3 | sort | uniq -c | sort -rn | head -10"
   ]
  },
  {
   "cell_type": "code",
   "execution_count": 47,
   "metadata": {
    "collapsed": false
   },
   "outputs": [
    {
     "name": "stdout",
     "output_type": "stream",
     "text": [
      "     17 W22227\r\n",
      "     16 W21867\r\n",
      "     16 W21641\r\n",
      "     16 W21538\r\n",
      "     16 W21239\r\n",
      "     16 W20540\r\n",
      "     16 W00714\r\n",
      "     15 W22080\r\n",
      "     15 W21450\r\n",
      "     15 W21076\r\n"
     ]
    }
   ],
   "source": [
    "#PART B\n",
    "!csvcut -c5,7,8 q1.csv | csvgrep -c1 -m 'Columbus Circle / Union Station' | csvcut -c3 | sort | uniq -c| sort -rn|head -10"
   ]
  },
  {
   "cell_type": "code",
   "execution_count": 48,
   "metadata": {
    "collapsed": false
   },
   "outputs": [
    {
     "name": "stdout",
     "output_type": "stream",
     "text": [
      "     18 W00485\r\n",
      "     17 W22227\r\n",
      "     16 W22099\r\n",
      "     16 W22080\r\n",
      "     16 W21239\r\n",
      "     16 W21076\r\n",
      "     16 W20425\r\n",
      "     16 W00714\r\n",
      "     15 W21997\r\n",
      "     15 W21867\r\n",
      "sort: write failed: 'standard output': Broken pipe\r\n",
      "sort: write error\r\n"
     ]
    }
   ],
   "source": [
    "!csvcut -c5,7,8 q1.csv | csvgrep -c2 -m 'Columbus Circle / Union Station' | csvcut -c3 | sort | uniq -c| sort -rn|head -10"
   ]
  },
  {
   "cell_type": "code",
   "execution_count": 10,
   "metadata": {
    "collapsed": false
   },
   "outputs": [
    {
     "name": "stdout",
     "output_type": "stream",
     "text": [
      "   8155 and\r\n",
      "   7689 the\r\n",
      "   5152 to\r\n",
      "   3523 of\r\n",
      "   3245 her\r\n",
      "   2774 it\r\n",
      "   2503 in\r\n",
      "   2447 you\r\n",
      "   2343 she\r\n",
      "   2233 for\r\n",
      "   2033 was\r\n",
      "   1978 as\r\n",
      "   1937 that\r\n",
      "   1854 with\r\n",
      "   1598 he\r\n",
      "   1469 but\r\n",
      "   1362 jo\r\n",
      "   1135 so\r\n",
      "   1118 his\r\n",
      "   1067 at\r\n",
      "   1063 had\r\n",
      "   1014 be\r\n",
      "    976 on\r\n",
      "    942 not\r\n",
      "    916 if\r\n",
      "sort: write failed: 'standard output': Broken pipe\r\n",
      "sort: write error\r\n"
     ]
    }
   ],
   "source": [
    "!cat women.txt.2 | grep -oE '\\w{{2,}}' | tr '[:upper:]' '[:lower:]' | sort | uniq -c | sort -rn| head -25"
   ]
  },
  {
   "cell_type": "code",
   "execution_count": 15,
   "metadata": {
    "collapsed": true
   },
   "outputs": [],
   "source": [
    "!chmod -x simplefilter.py"
   ]
  },
  {
   "cell_type": "code",
   "execution_count": 20,
   "metadata": {
    "collapsed": true
   },
   "outputs": [],
   "source": [
    "!chmod -x filter1.py"
   ]
  },
  {
   "cell_type": "code",
   "execution_count": 19,
   "metadata": {
    "collapsed": false
   },
   "outputs": [
    {
     "name": "stdout",
     "output_type": "stream",
     "text": [
      "/bin/sh: 1: ./filter1.py: Permission denied\n",
      "grep: write error\n",
      "cat: write error: Broken pipe\n"
     ]
    }
   ],
   "source": [
    "!cat women.txt.2 | grep -oE '\\w{{2,}}' | ./filter1.py | sort | uniq -c | sort -rn| head -25"
   ]
  },
  {
   "cell_type": "code",
   "execution_count": null,
   "metadata": {
    "collapsed": true
   },
   "outputs": [],
   "source": []
  },
  {
   "cell_type": "code",
   "execution_count": null,
   "metadata": {
    "collapsed": true
   },
   "outputs": [],
   "source": []
  },
  {
   "cell_type": "code",
   "execution_count": null,
   "metadata": {
    "collapsed": true
   },
   "outputs": [],
   "source": []
  },
  {
   "cell_type": "code",
   "execution_count": null,
   "metadata": {
    "collapsed": true
   },
   "outputs": [],
   "source": []
  },
  {
   "cell_type": "code",
   "execution_count": null,
   "metadata": {
    "collapsed": true
   },
   "outputs": [],
   "source": []
  },
  {
   "cell_type": "code",
   "execution_count": 4,
   "metadata": {
    "collapsed": true
   },
   "outputs": [],
   "source": [
    "s = open('women.txt.2').read()"
   ]
  },
  {
   "cell_type": "code",
   "execution_count": 5,
   "metadata": {
    "collapsed": false
   },
   "outputs": [
    {
     "data": {
      "text/plain": [
       "1032415"
      ]
     },
     "execution_count": 5,
     "metadata": {},
     "output_type": "execute_result"
    }
   ],
   "source": [
    "len(s)"
   ]
  },
  {
   "cell_type": "code",
   "execution_count": 27,
   "metadata": {
    "collapsed": false
   },
   "outputs": [
    {
     "data": {
      "text/plain": [
       "['aa', 'bb', 'cc', 'aa', 'bb\\ncc', 'dd\\n', 'aa', 'bb']"
      ]
     },
     "execution_count": 27,
     "metadata": {},
     "output_type": "execute_result"
    }
   ],
   "source": [
    "def filter_word_per_line(s):\n",
    "    lines = []\n",
    "    for line in s.split('/n'):\n",
    "        for word in line.split(' '):\n",
    "            if len(word) > 0:\n",
    "                lines.append(word)\n",
    "    return lines\n",
    "s = 'aa bb cc aa bb\\ncc dd\\n aa bb'\n",
    "filter_word_per_line(s)"
   ]
  },
  {
   "cell_type": "code",
   "execution_count": 29,
   "metadata": {
    "collapsed": false
   },
   "outputs": [],
   "source": [
    "def filter_word_per_line(s):\n",
    "    lines = []\n",
    "    for line in s.split('/n'):\n",
    "        for word in line.split(' '):\n",
    "            if len(word) > 0:\n",
    "                lines.append(word)\n",
    "    return lines\n",
    "s = open('women.txt.2').read()\n",
    "filter_word_per_line(s)"
   ]
  },
  {
   "cell_type": "code",
   "execution_count": null,
   "metadata": {
    "collapsed": true
   },
   "outputs": [],
   "source": []
  },
  {
   "cell_type": "code",
   "execution_count": 12,
   "metadata": {
    "collapsed": false
   },
   "outputs": [
    {
     "data": {
      "text/plain": [
       "'aa\\nbb\\ncc\\naa\\nbb\\ncc\\ndd\\naa\\nbb'"
      ]
     },
     "execution_count": 12,
     "metadata": {},
     "output_type": "execute_result"
    }
   ],
   "source": [
    "def filter_word_per_line(s):\n",
    "    lines = []\n",
    "    for line in s.split('\\n'):\n",
    "        for word in line.split(' '):\n",
    "            if len(word) > 0:\n",
    "                lines.append(word)\n",
    "    return '\\n'.join(lines)\n",
    "s  = 'aa bb cc aa bb\\ncc dd\\n aa bb'\n",
    "filter_word_per_line(s)"
   ]
  },
  {
   "cell_type": "code",
   "execution_count": 13,
   "metadata": {
    "collapsed": false
   },
   "outputs": [
    {
     "name": "stdout",
     "output_type": "stream",
     "text": [
      "aa\n",
      "bb\n",
      "cc\n",
      "aa\n",
      "bb\n",
      "cc\n",
      "dd\n",
      "aa\n",
      "bb\n"
     ]
    }
   ],
   "source": [
    "print(filter_word_per_line(s))"
   ]
  },
  {
   "cell_type": "code",
   "execution_count": 16,
   "metadata": {
    "collapsed": false
   },
   "outputs": [
    {
     "name": "stdout",
     "output_type": "stream",
     "text": [
      "aa\n",
      "bb\n",
      "cc\n",
      "aa\n",
      "bb\n",
      "cc\n",
      "dd\n",
      "aa\n",
      "bb\n"
     ]
    }
   ],
   "source": [
    "def filter_upper_to_lower(s):\n",
    "    lines = []\n",
    "    for word in s.split('\\n'):\n",
    "        lines.append(word.lower())\n",
    "    return '\\n'.join(lines)\n",
    "s  = 'aa bb cc AA bb\\ncc dd\\n aa bb'\n",
    "\n",
    "words = filter_word_per_line(s)\n",
    "\n",
    "lower_words = filter_upper_to_lower(words)\n",
    "\n",
    "print(lower_words)"
   ]
  },
  {
   "cell_type": "code",
   "execution_count": 22,
   "metadata": {
    "collapsed": false
   },
   "outputs": [],
   "source": [
    "def remove_stop_word(lower_words,n=25):\n",
    "    words = lower_words.split('\\n')\n",
    "    words_count = dict()\n",
    "    for word in words:\n",
    "      if word in words_count:\n",
    "        words_count[word]+=1\n",
    "      else:\n",
    "        words_count[word]=1\n",
    "    sort_words = sorted(words_count.items(),key=lambda x:x[1],reverse=True)\n",
    "    stop_word = set()\n",
    "    for word in sort_words[:n]:\n",
    "        stop_word.add(word[0])\n",
    "        print (word[0],word[1])\n",
    "    result = []\n",
    "    for word in words:\n",
    "       if word in stop_word:\n",
    "         continue\n",
    "       else:\n",
    "         result.append(word)\n",
    "    return '\\n'.join(result)"
   ]
  },
  {
   "cell_type": "code",
   "execution_count": 26,
   "metadata": {
    "collapsed": false
   },
   "outputs": [
    {
     "name": "stdout",
     "output_type": "stream",
     "text": [
      "and 8016\n",
      "the 7622\n",
      "to 5092\n",
      "a 4458\n",
      "of 3480\n",
      "her 2884\n",
      "i 2663\n",
      "in 2430\n",
      "she 2241\n",
      "for 2192\n",
      "was 1980\n",
      "as 1963\n",
      "with 1835\n",
      "you 1730\n",
      "that 1706\n",
      "it 1643\n",
      "he 1466\n",
      "but 1420\n",
      "his 1109\n",
      "at 1054\n",
      "had 1048\n",
      "so 992\n",
      "be 968\n",
      "on 884\n",
      "if 861\n"
     ]
    }
   ],
   "source": [
    "s  = open('women.txt.2').read()\n",
    "words = filter_word_per_line(s)\n",
    "lower_words = filter_upper_to_lower(words)\n",
    "result = remove_stop_word(lower_words,25)\n"
   ]
  },
  {
   "cell_type": "code",
   "execution_count": null,
   "metadata": {
    "collapsed": true
   },
   "outputs": [],
   "source": []
  },
  {
   "cell_type": "code",
   "execution_count": null,
   "metadata": {
    "collapsed": true
   },
   "outputs": [],
   "source": []
  }
 ],
 "metadata": {
  "anaconda-cloud": {},
  "kernelspec": {
   "display_name": "Python [Root]",
   "language": "python",
   "name": "Python [Root]"
  },
  "language_info": {
   "codemirror_mode": {
    "name": "ipython",
    "version": 3
   },
   "file_extension": ".py",
   "mimetype": "text/x-python",
   "name": "python",
   "nbconvert_exporter": "python",
   "pygments_lexer": "ipython3",
   "version": "3.5.2"
  }
 },
 "nbformat": 4,
 "nbformat_minor": 1
}
